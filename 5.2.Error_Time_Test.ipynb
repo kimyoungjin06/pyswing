{
 "cells": [
  {
   "cell_type": "code",
   "execution_count": 7,
   "id": "e125a5fb-9311-4e53-8bcd-82614c362e2f",
   "metadata": {
    "execution": {
     "iopub.execute_input": "2023-02-22T08:55:55.365456Z",
     "iopub.status.busy": "2023-02-22T08:55:55.365307Z",
     "iopub.status.idle": "2023-02-22T08:55:55.819250Z",
     "shell.execute_reply": "2023-02-22T08:55:55.819008Z",
     "shell.execute_reply.started": "2023-02-22T08:55:55.365445Z"
    }
   },
   "outputs": [],
   "source": [
    "import os\n",
    "\n",
    "import matplotlib.gridspec as gridspec\n",
    "import matplotlib.pyplot as plt\n",
    "import numpy as np\n",
    "import pandas as pd\n",
    "import pyswing.swing as swing\n",
    "import scipy\n",
    "from matplotlib import font_manager\n",
    "\n",
    "# font_manager.fontManager.addfont(\"/data/youngjin/workspace/Helvetica.ttf\")\n",
    "# font_manager.fontManager.addfont(\"/data/youngjin/workspace/Helvetica_bold.ttf\")\n",
    "helvetica = \"/data/youngjin/miniconda3/envs/latest/lib/python3.9/site-packages/matplotlib/mpl-data/fonts/pdfcorefonts/Helvetica.afm\"\n",
    "# font_manager.fontManager.afmlistaddfont(helvetica)\n",
    "\n",
    "font_path = \"/data/youngjin/fonts/Helvetica/\"\n",
    "font_list = os.listdir(font_path)\n",
    "for font_file in font_list:\n",
    "    try:\n",
    "        font_manager.fontManager.addfont(font_path + font_file)\n",
    "    except:\n",
    "        raise Exception(f\"Cannot Load {font_path+font_file}\")"
   ]
  },
  {
   "cell_type": "code",
   "execution_count": 68,
   "id": "b38179ba-18b3-45c2-bdf7-33b25135e54f",
   "metadata": {
    "execution": {
     "iopub.execute_input": "2023-02-22T09:44:16.560387Z",
     "iopub.status.busy": "2023-02-22T09:44:16.559937Z",
     "iopub.status.idle": "2023-02-22T09:44:16.607891Z",
     "shell.execute_reply": "2023-02-22T09:44:16.607473Z",
     "shell.execute_reply.started": "2023-02-22T09:44:16.560371Z"
    },
    "tags": []
   },
   "outputs": [
    {
     "name": "stdout",
     "output_type": "stream",
     "text": [
      " h          returned  x               y               error          error/h^4\n",
      "--------------------------------------------------------------------------------\n",
      "0.200000 : 2.00000000000000000  -0.61092392959821173   2.00488e-05     0.0125305\n",
      "0.150000 : 2.00000000000000000  -0.61093735432412266    6.6241e-06     0.0130847\n",
      "0.100000 : 2.00000000000000000  -0.61094283671399296   1.14172e-06     0.0114172\n",
      "0.050000 : 2.00000000000000000  -0.61094391120338987   6.72257e-08     0.0107561\n",
      "0.025000 : 2.00000000000000000  -0.61094397436751025   4.06155e-09     0.0103976\n",
      "0.020000 : 2.00000000000000000  -0.61094397677728407   1.65177e-09     0.0103236\n",
      "0.015000 : 2.00000000000000000  -0.61094397790242294   5.26634e-10     0.0104026\n",
      "0.010000 : 2.00000000000000000  -0.61094397832732217   1.01735e-10     0.0101735\n",
      "0.005000 : 2.00000000000000000  -0.61094397842279402   6.26266e-12     0.0100203\n",
      "0.002500 : 2.00000000000000000  -0.61094397842871329   3.43392e-13    0.00879083\n",
      "0.002000 : 2.00000000000000000  -0.61094397842889214   1.64535e-13     0.0102834\n",
      "0.001500 : 2.00000000000000000  -0.61094397842891490   1.41775e-13      0.028005\n",
      "0.001000 : 2.00000000000000000  -0.61094397842930337  -2.46692e-13     -0.246692\n",
      "0.000500 : 2.00000000000000000  -0.61094397842931425  -2.57572e-13      -4.12115\n",
      "0.000250 : 2.00000000000000000  -0.61094397842826786   7.88813e-13       201.936\n",
      "0.000200 : 2.00000000000000000  -0.61094397842931358  -2.56906e-13      -160.566\n",
      "0.000150 : 2.00000000000000000  -0.61094397842757198    1.4847e-12       2932.74\n",
      "0.000100 : 2.00000000000000000  -0.61094397842930714  -2.50466e-13      -2504.66\n",
      "0.000050 : 2.00000000000000000  -0.61094397842408599   4.97069e-12        795310\n",
      "0.000025 : 2.00000000000000000  -0.61094397843455750  -5.50082e-12  -1.40821e+07\n"
     ]
    }
   ],
   "source": [
    "def f(x,y):\n",
    "    return 2*x**2-4*x+y\n",
    "\n",
    "def RK4(x0,y0,xf,h):\n",
    "    while x0 < xf:\n",
    "        if x0+h > xf:\n",
    "            h=xf-x0\n",
    "        k1 = h*f(x0,y0)\n",
    "        k2 = h*f(x0+0.5*h,y0+0.5*k1)\n",
    "        k3 = h*f(x0+0.5*h,y0+0.5*k2)\n",
    "        k4 = h*f(x0+h,y0+k3)\n",
    "        y0+=(k1+2*k2+2*k3+k4)/6\n",
    "        x0+=h\n",
    "    return x0,y0\n",
    "\n",
    "def phi(x, x0,y0):\n",
    "    return (y0+2*x0**2)*np.exp(x-x0)-2*x**2\n",
    "\n",
    "b = 2\n",
    "x0 = 1\n",
    "y0 = 0.7182818\n",
    "\n",
    "\n",
    "print(' h          returned  x               y               error          error/h^4\\n--------------------------------------------------------------------------------')\n",
    "for k in range (1,5): \n",
    "    h0=10**-k; \n",
    "    for h in [2*h0, 1.5*h0, h0, 0.5*h0, 0.25*h0]:\n",
    "        xf,yf = RK4(x0, y0,b,h); \n",
    "        print(f'{h:6f} : {xf:.17f}  {yf:.17f}  {yf-phi(b,x0,y0):12.6g}  {(yf-phi(b,x0,y0))/h**4:12.6g}')"
   ]
  },
  {
   "cell_type": "markdown",
   "id": "0dc742ec-cedc-470e-9425-1785bc583730",
   "metadata": {},
   "source": [
    "- $2x^2-4x+y$\n",
    "- $y_0 + 2x_0^2e^{x-x_0}-2x^2$"
   ]
  },
  {
   "cell_type": "markdown",
   "id": "7760ee93-16ca-4f92-b866-086be0831670",
   "metadata": {},
   "source": [
    "# Time Test"
   ]
  },
  {
   "cell_type": "code",
   "execution_count": null,
   "id": "9d42ccc1-cfa9-4785-a9dd-5639ce4e11fe",
   "metadata": {},
   "outputs": [],
   "source": []
  },
  {
   "cell_type": "code",
   "execution_count": 32,
   "id": "1c6508b8-14d9-4dfa-90dc-a692fb3e098a",
   "metadata": {
    "execution": {
     "iopub.execute_input": "2023-02-22T09:25:02.407017Z",
     "iopub.status.busy": "2023-02-22T09:25:02.406890Z",
     "iopub.status.idle": "2023-02-22T09:25:05.912425Z",
     "shell.execute_reply": "2023-02-22T09:25:05.912011Z",
     "shell.execute_reply.started": "2023-02-22T09:25:02.406992Z"
    },
    "tags": []
   },
   "outputs": [
    {
     "name": "stdout",
     "output_type": "stream",
     "text": [
      "431 ns ± 2.15 ns per loop (mean ± std. dev. of 7 runs, 1,000,000 loops each)\n"
     ]
    }
   ],
   "source": [
    "%%timeit\n",
    "\n",
    "np.sin(10)"
   ]
  },
  {
   "cell_type": "code",
   "execution_count": 49,
   "id": "8358b21e-a0ce-4a1f-88dd-13ff441351f9",
   "metadata": {
    "execution": {
     "iopub.execute_input": "2023-02-22T09:37:41.848969Z",
     "iopub.status.busy": "2023-02-22T09:37:41.848853Z",
     "iopub.status.idle": "2023-02-22T09:37:44.587594Z",
     "shell.execute_reply": "2023-02-22T09:37:44.587278Z",
     "shell.execute_reply.started": "2023-02-22T09:37:41.848959Z"
    },
    "tags": []
   },
   "outputs": [
    {
     "name": "stdout",
     "output_type": "stream",
     "text": [
      "3.38 ns ± 0.0434 ns per loop (mean ± std. dev. of 7 runs, 100,000,000 loops each)\n"
     ]
    }
   ],
   "source": [
    "%%timeit\n",
    "\n",
    "10*10"
   ]
  },
  {
   "cell_type": "code",
   "execution_count": 50,
   "id": "6c8b1392-7a9c-4d28-8ed4-463ff20e6844",
   "metadata": {
    "execution": {
     "iopub.execute_input": "2023-02-22T09:37:51.861040Z",
     "iopub.status.busy": "2023-02-22T09:37:51.860747Z",
     "iopub.status.idle": "2023-02-22T09:37:54.564421Z",
     "shell.execute_reply": "2023-02-22T09:37:54.564025Z",
     "shell.execute_reply.started": "2023-02-22T09:37:51.861024Z"
    }
   },
   "outputs": [
    {
     "name": "stdout",
     "output_type": "stream",
     "text": [
      "3.32 ns ± 0.025 ns per loop (mean ± std. dev. of 7 runs, 100,000,000 loops each)\n"
     ]
    }
   ],
   "source": [
    "%%timeit\n",
    "\n",
    "10+10"
   ]
  },
  {
   "cell_type": "markdown",
   "id": "a672b0ef-8fc3-424c-9994-4070071b73d7",
   "metadata": {},
   "source": [
    "# Num Compare\n",
    "\n",
    "- In Network with size N, with E edges\n",
    "- Original Interaction caculate Sine E times\n",
    "- With Sine/Cosine divided, Sin\\*Cos - Cos\\*Sin\n",
    "    - There are Sin 2N times with some multiplication"
   ]
  },
  {
   "cell_type": "code",
   "execution_count": 41,
   "id": "1495880c-c998-4851-9a8e-a19309dba364",
   "metadata": {
    "execution": {
     "iopub.execute_input": "2023-02-22T09:34:01.866858Z",
     "iopub.status.busy": "2023-02-22T09:34:01.866731Z",
     "iopub.status.idle": "2023-02-22T09:34:01.869376Z",
     "shell.execute_reply": "2023-02-22T09:34:01.869031Z",
     "shell.execute_reply.started": "2023-02-22T09:34:01.866846Z"
    },
    "tags": []
   },
   "outputs": [],
   "source": [
    "N = 3000\n",
    "phase = 2*np.pi*np.random.rand(N)"
   ]
  },
  {
   "cell_type": "code",
   "execution_count": 46,
   "id": "e548b820-5505-4347-a13f-fd9dc3cc48e4",
   "metadata": {
    "execution": {
     "iopub.execute_input": "2023-02-22T09:36:18.745881Z",
     "iopub.status.busy": "2023-02-22T09:36:18.745760Z",
     "iopub.status.idle": "2023-02-22T09:36:20.125569Z",
     "shell.execute_reply": "2023-02-22T09:36:20.125205Z",
     "shell.execute_reply.started": "2023-02-22T09:36:18.745857Z"
    },
    "tags": []
   },
   "outputs": [],
   "source": [
    "from itertools import product\n",
    "\n",
    "def phase_difference(phase):\n",
    "    x = np.array(list(product(phase, phase)))\n",
    "    return x[:,1] - x[:,0]\n",
    "phase_comb = phase_difference(phase)"
   ]
  },
  {
   "cell_type": "code",
   "execution_count": 48,
   "id": "fd27c8e2-306d-415a-9a4b-460eb31444f3",
   "metadata": {
    "execution": {
     "iopub.execute_input": "2023-02-22T09:36:26.394470Z",
     "iopub.status.busy": "2023-02-22T09:36:26.394356Z",
     "iopub.status.idle": "2023-02-22T09:36:26.397320Z",
     "shell.execute_reply": "2023-02-22T09:36:26.397121Z",
     "shell.execute_reply.started": "2023-02-22T09:36:26.394460Z"
    },
    "tags": []
   },
   "outputs": [
    {
     "data": {
      "text/plain": [
       "(9000000,)"
      ]
     },
     "execution_count": 48,
     "metadata": {},
     "output_type": "execute_result"
    }
   ],
   "source": [
    "phase_comb.shape"
   ]
  },
  {
   "cell_type": "code",
   "execution_count": 84,
   "id": "9f624ae8-763c-4bb2-9595-36ca8e676cc8",
   "metadata": {
    "execution": {
     "iopub.execute_input": "2023-02-22T09:50:20.241008Z",
     "iopub.status.busy": "2023-02-22T09:50:20.240893Z",
     "iopub.status.idle": "2023-02-22T09:50:24.245145Z",
     "shell.execute_reply": "2023-02-22T09:50:24.244709Z",
     "shell.execute_reply.started": "2023-02-22T09:50:20.240999Z"
    },
    "tags": []
   },
   "outputs": [
    {
     "name": "stdout",
     "output_type": "stream",
     "text": [
      "49.2 µs ± 796 ns per loop (mean ± std. dev. of 7 runs, 10,000 loops each)\n"
     ]
    }
   ],
   "source": [
    "%%timeit\n",
    "for i in range(4):\n",
    "    np.sin(phase)"
   ]
  },
  {
   "cell_type": "code",
   "execution_count": 73,
   "id": "d4f525f1-602b-4b7e-aad9-4fae36c99269",
   "metadata": {
    "execution": {
     "iopub.execute_input": "2023-02-22T09:48:45.075358Z",
     "iopub.status.busy": "2023-02-22T09:48:45.075233Z",
     "iopub.status.idle": "2023-02-22T09:48:46.146051Z",
     "shell.execute_reply": "2023-02-22T09:48:46.145627Z",
     "shell.execute_reply.started": "2023-02-22T09:48:45.075336Z"
    }
   },
   "outputs": [
    {
     "name": "stdout",
     "output_type": "stream",
     "text": [
      "CPU times: user 1.03 s, sys: 37 ms, total: 1.07 s\n",
      "Wall time: 1.07 s\n"
     ]
    }
   ],
   "source": [
    "%%time\n",
    "for i in range(10):\n",
    "    np.sin(phase_comb)"
   ]
  },
  {
   "cell_type": "code",
   "execution_count": 82,
   "id": "8f5e4df4-9ad6-4782-8391-897209bd583b",
   "metadata": {
    "execution": {
     "iopub.execute_input": "2023-02-22T09:49:57.260930Z",
     "iopub.status.busy": "2023-02-22T09:49:57.260812Z",
     "iopub.status.idle": "2023-02-22T09:50:00.722389Z",
     "shell.execute_reply": "2023-02-22T09:50:00.722000Z",
     "shell.execute_reply.started": "2023-02-22T09:49:57.260919Z"
    },
    "tags": []
   },
   "outputs": [
    {
     "name": "stdout",
     "output_type": "stream",
     "text": [
      "42.5 µs ± 386 ns per loop (mean ± std. dev. of 7 runs, 10,000 loops each)\n"
     ]
    }
   ],
   "source": [
    "%%timeit\n",
    "s = np.sin(phase)\n",
    "c = np.cos(phase)\n",
    "c*s - s*c"
   ]
  },
  {
   "cell_type": "code",
   "execution_count": null,
   "id": "1a92f0f7-f83c-44a5-8642-7565d0206dc9",
   "metadata": {},
   "outputs": [],
   "source": []
  }
 ],
 "metadata": {
  "kernelspec": {
   "display_name": "Python 3 (ipykernel)",
   "language": "python",
   "name": "python3"
  },
  "language_info": {
   "codemirror_mode": {
    "name": "ipython",
    "version": 3
   },
   "file_extension": ".py",
   "mimetype": "text/x-python",
   "name": "python",
   "nbconvert_exporter": "python",
   "pygments_lexer": "ipython3",
   "version": "3.9.15"
  }
 },
 "nbformat": 4,
 "nbformat_minor": 5
}
